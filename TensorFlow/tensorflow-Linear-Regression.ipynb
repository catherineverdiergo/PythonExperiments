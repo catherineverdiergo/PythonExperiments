{
 "cells": [
  {
   "cell_type": "code",
   "execution_count": 1,
   "metadata": {},
   "outputs": [],
   "source": [
    "# Use tf1 for code tf v1.x\n",
    "import tensorflow.compat.v1 as tf\n",
    "import numpy as np\n",
    "from sklearn.datasets import load_boston\n",
    "\n",
    "%matplotlib inline\n",
    "%reload_ext tensorboard\n",
    "# tf1.disable_v2_behavior()"
   ]
  },
  {
   "cell_type": "code",
   "execution_count": 2,
   "metadata": {},
   "outputs": [
    {
     "name": "stdout",
     "output_type": "stream",
     "text": [
      "The dataset has 506 training samples.\n",
      "The dataset has 13 features.\n"
     ]
    }
   ],
   "source": [
    "boston = load_boston()\n",
    "features = np.array(boston.data)\n",
    "labels = np.array(boston.target)\n",
    "n_training_samples = features.shape[0]\n",
    "n_dim = features.shape[1]\n",
    "print('The dataset has',n_training_samples,'training samples.')\n",
    "print('The dataset has',n_dim,'features.')"
   ]
  },
  {
   "cell_type": "code",
   "execution_count": 3,
   "metadata": {},
   "outputs": [],
   "source": [
    "def normalize(dataset):\n",
    "    mu = np.mean(dataset, axis = 0)\n",
    "    sigma = np.std(dataset, axis = 0)\n",
    "    return (dataset-mu)/sigma"
   ]
  },
  {
   "cell_type": "code",
   "execution_count": 4,
   "metadata": {},
   "outputs": [
    {
     "name": "stdout",
     "output_type": "stream",
     "text": [
      "(13, 506)\n",
      "(506,)\n"
     ]
    }
   ],
   "source": [
    "features_norm = normalize(features)\n",
    "train_x = np.transpose(features_norm)\n",
    "train_y = np.transpose(labels)\n",
    "print(train_x.shape)\n",
    "print(train_y.shape)"
   ]
  },
  {
   "cell_type": "code",
   "execution_count": 5,
   "metadata": {},
   "outputs": [
    {
     "name": "stdout",
     "output_type": "stream",
     "text": [
      "(1, 506)\n"
     ]
    }
   ],
   "source": [
    "train_y = train_y.reshape(1,len(train_y))\n",
    "print(train_y.shape)"
   ]
  },
  {
   "cell_type": "code",
   "execution_count": 6,
   "metadata": {},
   "outputs": [
    {
     "name": "stdout",
     "output_type": "stream",
     "text": [
      "WARNING:tensorflow:From /home/weborama.office/cverdier/miniconda3/envs/deepl/lib/python3.7/site-packages/tensorflow_core/python/compat/v2_compat.py:65: disable_resource_variables (from tensorflow.python.ops.variable_scope) is deprecated and will be removed in a future version.\n",
      "Instructions for updating:\n",
      "non-resource variables are not supported in the long term\n"
     ]
    }
   ],
   "source": [
    "! mkdir -p logs/linreg\n",
    "logdir = \"logs/linreg\"\n",
    "# Prepare the computational graph\n",
    "tf.disable_v2_behavior()\n",
    "tf.reset_default_graph()\n",
    "X = tf.placeholder(tf.float32, [n_dim, None])\n",
    "Y = tf.placeholder(tf.float32, [1, None])\n",
    "learning_rate = tf.placeholder(tf.float32, shape=())\n",
    "W = tf.Variable(tf.ones([n_dim,1]))\n",
    "b = tf.Variable(tf.zeros(1))\n",
    "\n",
    "init = tf.global_variables_initializer()\n",
    "y_ = tf.matmul(tf.transpose(W),X)+b\n",
    "cost = tf.reduce_mean(tf.square(y_-Y))\n",
    "training_step = tf.train.GradientDescentOptimizer(learning_rate).minimize(cost)"
   ]
  },
  {
   "cell_type": "code",
   "execution_count": 11,
   "metadata": {},
   "outputs": [],
   "source": [
    "def run_linear_model(learning_r, training_epochs, train_obs, train_labels, debug = False):\n",
    "    sess = tf.Session()\n",
    "    sess.run(init)\n",
    "    writer = tf.summary.FileWriter(logdir, sess.graph)\n",
    "    cost_history = np.empty(shape=[0], dtype = float)\n",
    "    cost_ = sess.run(cost, feed_dict={ X:train_obs, Y: train_labels, learning_rate: learning_r})\n",
    "    tf.summary.scalar('loss', cost_)\n",
    "    merged = tf.summary.merge_all()\n",
    "    for epoch in range(training_epochs+1):\n",
    "        sess.run(training_step, feed_dict = {X: train_obs, Y: train_labels, learning_rate: learning_r})\n",
    "        cost_ = sess.run(cost, feed_dict={ X:train_obs, Y: train_labels, learning_rate: learning_r})\n",
    "        cost_history = np.append(cost_history, cost_)\n",
    "        if (epoch % 1000 == 0) & debug:\n",
    "            summary = sess.run(merged)\n",
    "            writer.add_summary(summary, epoch)\n",
    "            writer.flush()\n",
    "            print(\"Reached epoch\",epoch,\"cost J =\", str.format('{0:.6f}', cost_))\n",
    "    return sess, cost_history"
   ]
  },
  {
   "cell_type": "code",
   "execution_count": 12,
   "metadata": {},
   "outputs": [
    {
     "name": "stdout",
     "output_type": "stream",
     "text": [
      "Reached epoch 0 cost J = 606.887146\n",
      "Reached epoch 1000 cost J = 21.952604\n",
      "Reached epoch 2000 cost J = 21.899084\n",
      "Reached epoch 3000 cost J = 21.895168\n",
      "Reached epoch 4000 cost J = 21.894857\n",
      "Reached epoch 5000 cost J = 21.894833\n",
      "Reached epoch 6000 cost J = 21.894831\n",
      "Reached epoch 7000 cost J = 21.894833\n",
      "Reached epoch 8000 cost J = 21.894831\n",
      "Reached epoch 9000 cost J = 21.894833\n",
      "Reached epoch 10000 cost J = 21.894833\n"
     ]
    },
    {
     "data": {
      "text/plain": [
       "Reusing TensorBoard on port 6006 (pid 18555), started 1:13:21 ago. (Use '!kill 18555' to kill it.)"
      ]
     },
     "metadata": {},
     "output_type": "display_data"
    },
    {
     "data": {
      "text/html": [
       "\n",
       "      <iframe id=\"tensorboard-frame-fcca32f67481c42a\" width=\"100%\" height=\"800\" frameborder=\"0\">\n",
       "      </iframe>\n",
       "      <script>\n",
       "        (function() {\n",
       "          const frame = document.getElementById(\"tensorboard-frame-fcca32f67481c42a\");\n",
       "          const url = new URL(\"/\", window.location);\n",
       "          url.port = 6006;\n",
       "          frame.src = url;\n",
       "        })();\n",
       "      </script>\n",
       "  "
      ],
      "text/plain": [
       "<IPython.core.display.HTML object>"
      ]
     },
     "metadata": {},
     "output_type": "display_data"
    }
   ],
   "source": [
    "sess, cost_history = run_linear_model(learning_r = 0.01,\n",
    "                                      training_epochs = 10000,\n",
    "                                      train_obs = train_x,\n",
    "                                      train_labels = train_y,\n",
    "                                      debug = True)\n",
    "\n",
    "%tensorboard --logdir logs/linreg"
   ]
  },
  {
   "cell_type": "code",
   "execution_count": 9,
   "metadata": {},
   "outputs": [],
   "source": [
    "# close tensorboard server\n",
    "! pids=`ps -ef|grep tensorboard|awk '{print $2}'`; for p in $pids; do kill -INT $p; done"
   ]
  },
  {
   "cell_type": "code",
   "execution_count": null,
   "metadata": {},
   "outputs": [],
   "source": []
  }
 ],
 "metadata": {
  "kernelspec": {
   "display_name": "Python 3",
   "language": "python",
   "name": "python3"
  },
  "language_info": {
   "codemirror_mode": {
    "name": "ipython",
    "version": 3
   },
   "file_extension": ".py",
   "mimetype": "text/x-python",
   "name": "python",
   "nbconvert_exporter": "python",
   "pygments_lexer": "ipython3",
   "version": "3.7.4"
  }
 },
 "nbformat": 4,
 "nbformat_minor": 2
}
