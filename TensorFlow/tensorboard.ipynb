{
 "cells": [
  {
   "cell_type": "code",
   "execution_count": 1,
   "metadata": {},
   "outputs": [
    {
     "data": {
      "text/html": [
       "\n",
       "      <iframe id=\"tensorboard-frame-58b0d109c5ce0b26\" width=\"100%\" height=\"800\" frameborder=\"0\">\n",
       "      </iframe>\n",
       "      <script>\n",
       "        (function() {\n",
       "          const frame = document.getElementById(\"tensorboard-frame-58b0d109c5ce0b26\");\n",
       "          const url = new URL(\"/\", window.location);\n",
       "          url.port = 6006;\n",
       "          frame.src = url;\n",
       "        })();\n",
       "      </script>\n",
       "  "
      ],
      "text/plain": [
       "<IPython.core.display.HTML object>"
      ]
     },
     "metadata": {},
     "output_type": "display_data"
    }
   ],
   "source": [
    "# Tensorflow v2.0.0\n",
    "import tensorflow as tf\n",
    "import numpy as np\n",
    "\n",
    "%load_ext tensorboard\n",
    "\n",
    "! mkdir -p logs/forward_and_backward\n",
    "\n",
    "logdir = 'logs/forward_and_backward'\n",
    "tf.compat.v1.reset_default_graph()\n",
    "writer = tf.summary.create_file_writer(logdir)\n",
    "tf.summary.trace_on(graph=True, profiler=True)\n",
    "\n",
    "@tf.function\n",
    "def forward_and_backward(x, y, w, b, lr=tf.constant(0.01)):\n",
    "\n",
    "    with tf.name_scope('logits'):\n",
    "        logits = tf.matmul(x, w) + b\n",
    "\n",
    "    with tf.name_scope('loss'):\n",
    "        loss_fn = tf.nn.sparse_softmax_cross_entropy_with_logits(\n",
    "            labels=y, logits=logits)\n",
    "        reduced = tf.reduce_sum(loss_fn)\n",
    "\n",
    "    with tf.name_scope('optimizer'):\n",
    "        grads = tf.gradients(reduced, [w, b])\n",
    "        _ = [x.assign(x - g*lr) for g, x in zip(grads, [w, b])]\n",
    "    return reduced\n",
    "\n",
    "# inputs\n",
    "x = tf.convert_to_tensor(np.ones([1, 2]), dtype=tf.float32)\n",
    "y = tf.convert_to_tensor(np.array([1]))\n",
    "# params\n",
    "w = tf.Variable(tf.random.normal([2, 2]), dtype=tf.float32)\n",
    "b = tf.Variable(tf.zeros([1, 2]), dtype=tf.float32)\n",
    "\n",
    "loss_val = forward_and_backward(x, y, w, b)\n",
    "\n",
    "with writer.as_default():\n",
    "    tf.summary.trace_export(\n",
    "        name='NN',\n",
    "        step=0,\n",
    "        profiler_outdir=logdir)\n",
    "\n",
    "%tensorboard --logdir logs/forward_and_backward"
   ]
  },
  {
   "cell_type": "code",
   "execution_count": 2,
   "metadata": {},
   "outputs": [],
   "source": [
    "# close tensorboard server\n",
    "! pids=`ps -ef|grep tensorboard|awk '{print $2}'`; for p in $pids; do kill -INT $p; done"
   ]
  },
  {
   "cell_type": "code",
   "execution_count": null,
   "metadata": {},
   "outputs": [],
   "source": []
  }
 ],
 "metadata": {
  "kernelspec": {
   "display_name": "Python 3",
   "language": "python",
   "name": "python3"
  },
  "language_info": {
   "codemirror_mode": {
    "name": "ipython",
    "version": 3
   },
   "file_extension": ".py",
   "mimetype": "text/x-python",
   "name": "python",
   "nbconvert_exporter": "python",
   "pygments_lexer": "ipython3",
   "version": "3.7.4"
  }
 },
 "nbformat": 4,
 "nbformat_minor": 2
}
