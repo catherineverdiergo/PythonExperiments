{
 "cells": [
  {
   "cell_type": "code",
   "execution_count": 1,
   "metadata": {},
   "outputs": [],
   "source": [
    "import random\n",
    "import numpy as np"
   ]
  },
  {
   "cell_type": "markdown",
   "metadata": {},
   "source": [
    "# Benchmarks to multiply 1d-vectors"
   ]
  },
  {
   "cell_type": "code",
   "execution_count": 2,
   "metadata": {},
   "outputs": [],
   "source": [
    "lst1 = random.sample(range(1, 10**8), 10**7)\n",
    "lst2 = random.sample(range(1, 10**8), 10**7)"
   ]
  },
  {
   "cell_type": "code",
   "execution_count": 3,
   "metadata": {},
   "outputs": [
    {
     "name": "stdout",
     "output_type": "stream",
     "text": [
      "1.53 s ± 12.6 ms per loop (mean ± std. dev. of 7 runs, 1 loop each)\n"
     ]
    }
   ],
   "source": [
    "%%timeit\n",
    "ab = [lst1[i]*lst2[i] for i in range(len(lst1))]"
   ]
  },
  {
   "cell_type": "code",
   "execution_count": 4,
   "metadata": {},
   "outputs": [],
   "source": [
    "list1_np = np.array(lst1)\n",
    "list2_np = np.array(lst2)"
   ]
  },
  {
   "cell_type": "code",
   "execution_count": 5,
   "metadata": {},
   "outputs": [
    {
     "name": "stdout",
     "output_type": "stream",
     "text": [
      "16.9 ms ± 54.9 µs per loop (mean ± std. dev. of 7 runs, 100 loops each)\n"
     ]
    }
   ],
   "source": [
    "%%timeit\n",
    "Out2 = np.multiply(list1_np, list2_np)"
   ]
  },
  {
   "cell_type": "code",
   "execution_count": 6,
   "metadata": {},
   "outputs": [
    {
     "data": {
      "text/plain": [
       "array([ 136092025786200,   53106445133896, 1651320096889184, ...,\n",
       "        154458471286152, 2542103813250660, 1562636870842390])"
      ]
     },
     "execution_count": 6,
     "metadata": {},
     "output_type": "execute_result"
    }
   ],
   "source": [
    "Out2 = np.multiply(list1_np, list2_np)\n",
    "Out2"
   ]
  },
  {
   "cell_type": "code",
   "execution_count": 7,
   "metadata": {},
   "outputs": [
    {
     "name": "stdout",
     "output_type": "stream",
     "text": [
      "17.9 ms ± 1.23 ms per loop (mean ± std. dev. of 7 runs, 100 loops each)\n"
     ]
    }
   ],
   "source": [
    "%%timeit\n",
    "Out2 = list1_np * list2_np"
   ]
  },
  {
   "cell_type": "code",
   "execution_count": 8,
   "metadata": {},
   "outputs": [],
   "source": [
    "Out2 = list1_np * list2_np"
   ]
  },
  {
   "cell_type": "code",
   "execution_count": 9,
   "metadata": {},
   "outputs": [
    {
     "data": {
      "text/plain": [
       "array([ 136092025786200,   53106445133896, 1651320096889184, ...,\n",
       "        154458471286152, 2542103813250660, 1562636870842390])"
      ]
     },
     "execution_count": 9,
     "metadata": {},
     "output_type": "execute_result"
    }
   ],
   "source": [
    "Out2"
   ]
  },
  {
   "cell_type": "code",
   "execution_count": 10,
   "metadata": {},
   "outputs": [
    {
     "name": "stdout",
     "output_type": "stream",
     "text": [
      "WARNING:tensorflow:From /home/weborama.office/cverdier/miniconda3/envs/deepl/lib/python3.7/site-packages/tensorflow_core/python/compat/v2_compat.py:65: disable_resource_variables (from tensorflow.python.ops.variable_scope) is deprecated and will be removed in a future version.\n",
      "Instructions for updating:\n",
      "non-resource variables are not supported in the long term\n"
     ]
    }
   ],
   "source": [
    "# Use tf1 for code tf v1.x\n",
    "import tensorflow.compat.v1 as tf1\n",
    "tf1.disable_v2_behavior()\n",
    "\n",
    "tsr1 = tf1.constant(list1_np, dtype=tf1.int64)\n",
    "tsr2 = tf1.constant(list2_np, dtype=tf1.int64)"
   ]
  },
  {
   "cell_type": "code",
   "execution_count": 11,
   "metadata": {},
   "outputs": [],
   "source": [
    "sess = tf1.Session()"
   ]
  },
  {
   "cell_type": "code",
   "execution_count": 12,
   "metadata": {},
   "outputs": [
    {
     "name": "stdout",
     "output_type": "stream",
     "text": [
      "390 µs ± 33.9 µs per loop (mean ± std. dev. of 7 runs, 1000 loops each)\n"
     ]
    }
   ],
   "source": [
    "%%timeit\n",
    "tsr3 = tf1.multiply(tsr1, tsr2)"
   ]
  },
  {
   "cell_type": "code",
   "execution_count": 13,
   "metadata": {},
   "outputs": [],
   "source": [
    "sess.close()"
   ]
  },
  {
   "cell_type": "code",
   "execution_count": 14,
   "metadata": {},
   "outputs": [
    {
     "name": "stdout",
     "output_type": "stream",
     "text": [
      "[ 136092025786200   53106445133896 1651320096889184 ...  154458471286152\n",
      " 2542103813250660 1562636870842390]\n"
     ]
    }
   ],
   "source": [
    "with tf1.Session() as sess:\n",
    "    tsr3 = tf1.multiply(tsr1, tsr2)\n",
    "    print(tsr3.eval())"
   ]
  },
  {
   "cell_type": "markdown",
   "metadata": {},
   "source": [
    "# Benchmarks for ReLu fonction\n",
    "\n",
    "ReLu function is defined by: $f(z)=max(0,z)$"
   ]
  },
  {
   "cell_type": "code",
   "execution_count": 18,
   "metadata": {},
   "outputs": [
    {
     "name": "stdout",
     "output_type": "stream",
     "text": [
      "Method 1:\n",
      "8.44 ms ± 791 µs per loop (mean ± std. dev. of 7 runs, 10 loops each)\n",
      "Method 2:\n",
      "10.8 ms ± 229 µs per loop (mean ± std. dev. of 7 runs, 10 loops each)\n",
      "Method 3:\n",
      "21.2 ms ± 520 µs per loop (mean ± std. dev. of 7 runs, 10 loops each)\n",
      "Method 4:\n",
      "41.2 ms ± 739 µs per loop (mean ± std. dev. of 7 runs, 10 loops each)\n",
      "Method 5:\n",
      "332 µs ± 27.9 µs per loop (mean ± std. dev. of 7 runs, 10 loops each)\n"
     ]
    }
   ],
   "source": [
    "print(\"Method 1:\")\n",
    "%timeit -n10 np.maximum(list1_np, 0, list1_np)\n",
    "print(\"Method 2:\")\n",
    "%timeit -n10 np.maximum(list1_np, 0)\n",
    "print(\"Method 3:\")\n",
    "%timeit -n10 list1_np * (list1_np > 0)\n",
    "print(\"Method 4:\")\n",
    "%timeit -n10 (abs(list1_np) + list1_np) / 2\n",
    "print(\"Method 5:\")\n",
    "%timeit -n10 tf1.nn.relu(tsr1)"
   ]
  },
  {
   "cell_type": "code",
   "execution_count": null,
   "metadata": {},
   "outputs": [],
   "source": []
  }
 ],
 "metadata": {
  "kernelspec": {
   "display_name": "Python 3",
   "language": "python",
   "name": "python3"
  },
  "language_info": {
   "codemirror_mode": {
    "name": "ipython",
    "version": 3
   },
   "file_extension": ".py",
   "mimetype": "text/x-python",
   "name": "python",
   "nbconvert_exporter": "python",
   "pygments_lexer": "ipython3",
   "version": "3.7.4"
  }
 },
 "nbformat": 4,
 "nbformat_minor": 2
}
