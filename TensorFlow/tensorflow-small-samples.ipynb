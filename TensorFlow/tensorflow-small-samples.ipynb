{
 "cells": [
  {
   "cell_type": "code",
   "execution_count": 1,
   "metadata": {},
   "outputs": [
    {
     "name": "stdout",
     "output_type": "stream",
     "text": [
      "WARNING:tensorflow:From /home/weborama.office/cverdier/miniconda3/envs/deepl/lib/python3.7/site-packages/tensorflow_core/python/compat/v2_compat.py:65: disable_resource_variables (from tensorflow.python.ops.variable_scope) is deprecated and will be removed in a future version.\n",
      "Instructions for updating:\n",
      "non-resource variables are not supported in the long term\n",
      "tensorflow version = 2.0.0\n",
      "Tensor(\"PartitionedCall:0\", shape=(), dtype=int32)\n"
     ]
    }
   ],
   "source": [
    "# Tensorflow v2.0.0\n",
    "import tensorflow as tf\n",
    "import numpy as np\n",
    "\n",
    "# Use tf1 for code tf v1.x\n",
    "import tensorflow.compat.v1 as tf1\n",
    "tf1.disable_v2_behavior()\n",
    "\n",
    "%load_ext tensorboard\n",
    "\n",
    "print('tensorflow version = {}'.format(tf.__version__))\n",
    "\n",
    "x1 = tf.constant(1)\n",
    "x2 = tf.constant(2)\n",
    "\n",
    "@tf.function\n",
    "def add_contants():\n",
    "  return tf.add(x1, x2)\n",
    "\n",
    "print(add_contants())"
   ]
  },
  {
   "cell_type": "code",
   "execution_count": 2,
   "metadata": {},
   "outputs": [
    {
     "name": "stdout",
     "output_type": "stream",
     "text": [
      "1\n",
      "2\n",
      "3\n"
     ]
    }
   ],
   "source": [
    "# Use tensorflow v2 with tf v1 syntax\n",
    "x1 = tf1.constant(1)\n",
    "x2 = tf1.constant(2)\n",
    "z = tf1.add(x1, x2)\n",
    "sess = tf1.Session()\n",
    "print(sess.run(x1))\n",
    "print(sess.run(x2))\n",
    "print(sess.run(z))\n",
    "sess.close()"
   ]
  },
  {
   "cell_type": "code",
   "execution_count": 3,
   "metadata": {},
   "outputs": [
    {
     "name": "stdout",
     "output_type": "stream",
     "text": [
      "3\n"
     ]
    }
   ],
   "source": [
    "# Using Variables\n",
    "x1 = tf1.Variable(1)\n",
    "x2 = tf1.Variable(2)\n",
    "z = tf1.add(x1, x2)\n",
    "sess = tf1.Session()\n",
    "sess.run(x1.initializer)\n",
    "sess.run(x2.initializer)\n",
    "print(sess.run(z))\n",
    "sess.close()"
   ]
  },
  {
   "cell_type": "code",
   "execution_count": 4,
   "metadata": {},
   "outputs": [
    {
     "name": "stdout",
     "output_type": "stream",
     "text": [
      "3\n"
     ]
    },
    {
     "data": {
      "text/html": [
       "\n",
       "      <iframe id=\"tensorboard-frame-24d0069209f3b47e\" width=\"100%\" height=\"800\" frameborder=\"0\">\n",
       "      </iframe>\n",
       "      <script>\n",
       "        (function() {\n",
       "          const frame = document.getElementById(\"tensorboard-frame-24d0069209f3b47e\");\n",
       "          const url = new URL(\"/\", window.location);\n",
       "          url.port = 6006;\n",
       "          frame.src = url;\n",
       "        })();\n",
       "      </script>\n",
       "  "
      ],
      "text/plain": [
       "<IPython.core.display.HTML object>"
      ]
     },
     "metadata": {},
     "output_type": "display_data"
    }
   ],
   "source": [
    "# Using Variables and tensorboard\n",
    "! mkdir -p logs/addition\n",
    "logdir = \"logs/addition\"\n",
    "tf1.reset_default_graph()\n",
    "x1 = tf1.Variable(1)\n",
    "x2 = tf1.Variable(2)\n",
    "z = tf1.add(x1, x2)\n",
    "init = tf1.global_variables_initializer()\n",
    "sess = tf1.Session()\n",
    "tf1.summary.FileWriter(logdir, sess.graph)\n",
    "sess.run(init)\n",
    "print(sess.run(z))\n",
    "sess.close()\n",
    "%tensorboard --logdir logs/addition"
   ]
  },
  {
   "cell_type": "code",
   "execution_count": 5,
   "metadata": {},
   "outputs": [],
   "source": [
    "# close tensorboard server\n",
    "! pids=`ps -ef|grep tensorboard|awk '{print $2}'`; for p in $pids; do kill -INT $p; done"
   ]
  },
  {
   "cell_type": "code",
   "execution_count": 6,
   "metadata": {},
   "outputs": [
    {
     "name": "stdout",
     "output_type": "stream",
     "text": [
      "Tensor(\"Add_1:0\", shape=(1,), dtype=float32)\n",
      "[3.]\n"
     ]
    }
   ],
   "source": [
    "# Using placeholders\n",
    "x1 = tf1.placeholder(tf.float32, 1)\n",
    "x2 = tf1.placeholder(tf.float32, 1)\n",
    "z = tf1.add(x1, x2)\n",
    "print(z)\n",
    "sess = tf1.Session()\n",
    "tf1.summary.FileWriter(logdir, sess.graph)\n",
    "print(sess.run(z, {x1: [1], x2: [2]}))\n",
    "sess.close()"
   ]
  },
  {
   "cell_type": "code",
   "execution_count": 7,
   "metadata": {},
   "outputs": [
    {
     "name": "stdout",
     "output_type": "stream",
     "text": [
      "Tensor(\"Add_2:0\", shape=(2,), dtype=float32)\n",
      "[2. 6.]\n"
     ]
    }
   ],
   "source": [
    "x1 = tf1.placeholder(tf.float32, 2)\n",
    "x2 = tf1.placeholder(tf.float32, 2)\n",
    "z = tf1.add(x1, x2)\n",
    "print(z)\n",
    "sess = tf1.Session()\n",
    "print(sess.run(z, {x1: [1, 5], x2: [1, 1]}))\n",
    "# sess.close()"
   ]
  },
  {
   "cell_type": "code",
   "execution_count": 19,
   "metadata": {},
   "outputs": [
    {
     "name": "stdout",
     "output_type": "stream",
     "text": [
      "[14.]\n"
     ]
    },
    {
     "data": {
      "text/html": [
       "\n",
       "      <iframe id=\"tensorboard-frame-c1e93705c2d0c865\" width=\"100%\" height=\"800\" frameborder=\"0\">\n",
       "      </iframe>\n",
       "      <script>\n",
       "        (function() {\n",
       "          const frame = document.getElementById(\"tensorboard-frame-c1e93705c2d0c865\");\n",
       "          const url = new URL(\"/\", window.location);\n",
       "          url.port = 6006;\n",
       "          frame.src = url;\n",
       "        })();\n",
       "      </script>\n",
       "  "
      ],
      "text/plain": [
       "<IPython.core.display.HTML object>"
      ]
     },
     "metadata": {},
     "output_type": "display_data"
    }
   ],
   "source": [
    "! mkdir -p logs/scalar_product\n",
    "\n",
    "logdir = \"logs/scalar_product\"\n",
    "tf1.reset_default_graph()\n",
    "x1 = tf1.placeholder(tf1.float32, 1)\n",
    "w1 = tf1.placeholder(tf1.float32, 1)\n",
    "x2 = tf1.placeholder(tf1.float32, 1)\n",
    "w2 = tf1.placeholder(tf1.float32, 1)\n",
    "z1 = tf1.multiply(x1, w1)\n",
    "z2 = tf1.multiply(x2, w2)\n",
    "z3 = tf1.add(z1, z2)\n",
    "\n",
    "feed_dict={ x1:[1], w1:[2], x2:[3], w2:[4]}\n",
    "sess = tf1.Session()\n",
    "tf1.summary.FileWriter(logdir, sess.graph)\n",
    "result = sess.run(z3, feed_dict)\n",
    "print(result)\n",
    "sess.close()\n",
    "\n",
    "%tensorboard --logdir logs/scalar_product"
   ]
  },
  {
   "cell_type": "code",
   "execution_count": 18,
   "metadata": {},
   "outputs": [],
   "source": [
    "# close tensorboard server\n",
    "! pids=`ps -ef|grep tensorboard|awk '{print $2}'`; for p in $pids; do kill -INT $p; done"
   ]
  },
  {
   "cell_type": "code",
   "execution_count": null,
   "metadata": {},
   "outputs": [],
   "source": []
  }
 ],
 "metadata": {
  "kernelspec": {
   "display_name": "Python 3",
   "language": "python",
   "name": "python3"
  },
  "language_info": {
   "codemirror_mode": {
    "name": "ipython",
    "version": 3
   },
   "file_extension": ".py",
   "mimetype": "text/x-python",
   "name": "python",
   "nbconvert_exporter": "python",
   "pygments_lexer": "ipython3",
   "version": "3.7.4"
  }
 },
 "nbformat": 4,
 "nbformat_minor": 2
}
